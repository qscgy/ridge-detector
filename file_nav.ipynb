{
 "cells": [
  {
   "cell_type": "code",
   "execution_count": 13,
   "metadata": {},
   "outputs": [],
   "source": [
    "import numpy as np\n",
    "import pickle\n",
    "import natsort\n",
    "import os"
   ]
  },
  {
   "cell_type": "code",
   "execution_count": 61,
   "metadata": {},
   "outputs": [
    {
     "name": "stdout",
     "output_type": "stream",
     "text": [
      "/playpen/Datasets/geodepth2/000/img_corr/frame031430.jpg\n",
      "/playpen/Datasets/geodepth2/001/img_corr/frame023226.jpg\n",
      "/playpen/Datasets/geodepth2/001/img_corr/frame023256.jpg\n",
      "/playpen/Datasets/geodepth2/001/img_corr/frame023444.jpg\n",
      "/playpen/Datasets/geodepth2/002/img_corr/frame024047.jpg\n",
      "/playpen/Datasets/geodepth2/002/img_corr/frame024185.jpg\n",
      "/playpen/Datasets/geodepth2/002/img_corr/frame024188.jpg\n",
      "/playpen/Datasets/geodepth2/004/img_corr/frame036482.jpg\n",
      "/playpen/Datasets/geodepth2/004/img_corr/frame036489.jpg\n",
      "/playpen/Datasets/geodepth2/005/img_corr/frame053555.jpg\n",
      "/playpen/Datasets/geodepth2/005/img_corr/frame053574.jpg\n",
      "/playpen/Datasets/geodepth2/005/img_corr/frame053677.jpg\n",
      "/playpen/Datasets/geodepth2/005/img_corr/frame053812.jpg\n",
      "/playpen/Datasets/geodepth2/006/img_corr/frame054119.jpg\n",
      "/playpen/Datasets/geodepth2/006/img_corr/frame054134.jpg\n",
      "/playpen/Datasets/geodepth2/007/img_corr/frame014287.jpg\n",
      "/playpen/Datasets/geodepth2/008/img_corr/frame034025.jpg\n",
      "/playpen/Datasets/geodepth2/009/img_corr/frame035070.jpg\n",
      "/playpen/Datasets/geodepth2/009/img_corr/frame035207.jpg\n",
      "/playpen/Datasets/geodepth2/009/img_corr/frame035276.jpg\n",
      "/playpen/Datasets/geodepth2/009/img_corr/frame035456.jpg\n",
      "/playpen/Datasets/geodepth2/010/img_corr/frame012541.jpg\n",
      "/playpen/Datasets/geodepth2/011/img_corr/frame014183.jpg\n",
      "/playpen/Datasets/geodepth2/011/img_corr/frame014571.jpg\n",
      "/playpen/Datasets/geodepth2/015/img_corr/frame017198.jpg\n",
      "/playpen/Datasets/geodepth2/016/img_corr/frame020698.jpg\n",
      "/playpen/Datasets/geodepth2/016/img_corr/frame020894.jpg\n",
      "/playpen/Datasets/geodepth2/020/img_corr/frame025256.jpg\n",
      "/playpen/Datasets/geodepth2/020/img_corr/frame025292.jpg\n",
      "/playpen/Datasets/geodepth2/020/img_corr/frame025350.jpg\n",
      "/playpen/Datasets/geodepth2/022/img_corr/frame021748.jpg\n",
      "/playpen/Datasets/geodepth2/022/img_corr/frame021835.jpg\n",
      "/playpen/Datasets/geodepth2/031/img_corr/frame029700.jpg\n",
      "/playpen/Datasets/geodepth2/033/img_corr/frame023830.jpg\n",
      "/playpen/Datasets/geodepth2/034/img_corr/frame068000.jpg\n",
      "/playpen/Datasets/geodepth2/034/img_corr/frame068001.jpg\n",
      "/playpen/Datasets/geodepth2/034/img_corr/frame068007.jpg\n",
      "/playpen/Datasets/geodepth2/034/img_corr/frame068173.jpg\n",
      "/playpen/Datasets/geodepth2/034/img_corr/frame068250.jpg\n",
      "/playpen/Datasets/geodepth2/035/img_corr/frame023829.jpg\n",
      "/playpen/Datasets/geodepth2/039/img_corr/frame007386.jpg\n",
      "/playpen/Datasets/geodepth2/042/img_corr/frame156959.jpg\n",
      "/playpen/Datasets/geodepth2/050/img_corr/frame004546.jpg\n",
      "/playpen/Datasets/geodepth2/055/img_corr/frame016717.jpg\n",
      "/playpen/Datasets/geodepth2/056/img_corr/frame016841.jpg\n",
      "/playpen/Datasets/geodepth2/060/img_corr/frame026289.jpg\n",
      "/playpen/Datasets/geodepth2/064/img_corr/frame019096.jpg\n",
      "/playpen/Datasets/geodepth2/067/img_corr/frame037597.jpg\n",
      "/playpen/Datasets/geodepth2/Auto_A_Dec01_13-36-05_001/img_corr/frame027769.jpg\n",
      "/playpen/Datasets/geodepth2/Auto_A_Feb08_10-22-38_001/img_corr/frame012368.jpg\n",
      "/playpen/Datasets/geodepth2/Auto_A_Feb08_12-20-44_001/img_corr/frame007435.jpg\n",
      "/playpen/Datasets/geodepth2/Auto_A_Feb08_12-20-44_001/img_corr/frame007480.jpg\n",
      "/playpen/Datasets/geodepth2/Auto_A_Nov01_11-50-02_001/img_corr/frame037523.jpg\n",
      "/playpen/Datasets/geodepth2/Auto_A_Nov03_15-33-20_002/img_corr/frame015878.jpg\n",
      "/playpen/Datasets/geodepth2/Auto_A_Nov12_13-56-23_001/img_corr/frame024445.jpg\n",
      "/playpen/Datasets/geodepth2/Auto_A_Nov15_10-22-39_001/img_corr/frame001003.jpg\n",
      "/playpen/Datasets/geodepth2/Auto_A_Nov15_11-29-13_001/img_corr/frame031355.jpg\n",
      "/playpen/Datasets/geodepth2/Auto_A_Nov22_08-18-54_001/img_corr/frame017439.jpg\n",
      "/playpen/Datasets/geodepth2/Auto_A_Nov22_10-06-55_002/img_corr/frame035906.jpg\n",
      "/playpen/Datasets/geodepth2/Auto_A_Nov22_10-06-55_002/img_corr/frame035911.jpg\n",
      "/playpen/Datasets/geodepth2/Auto_A_Nov22_10-06-55_002/img_corr/frame035936.jpg\n",
      "/playpen/Datasets/geodepth2/Auto_A_Nov22_14-10-58_001/img_corr/frame020028.jpg\n",
      "/playpen/Datasets/geodepth2/Auto_A_Oct25_16-08-14_001/img_corr/frame023488.jpg\n",
      "/playpen/Datasets/geodepth2/000/img_corr/frame031221.jpg\n"
     ]
    }
   ],
   "source": [
    "with open('annotations_test.pkl', 'rb') as f:\n",
    "    data = pickle.load(f)\n",
    "files = list(data.keys())\n",
    "normal_paths = {}\n",
    "\n",
    "for fpath in files:\n",
    "    path = fpath.split('/')\n",
    "    frame = int(path[-1].split('.')[0][-6:])\n",
    "    \n",
    "    num = path[-1][:-16]\n",
    "    img_dir = os.path.join('/playpen/Datasets/geodepth2/', num, 'img_corr')\n",
    "    dir_list = natsort.natsorted(os.listdir(img_dir))\n",
    "    zero_frame = int(dir_list[0].split('_')[-1][-10:-4])\n",
    "    index = dir_list.index(path[-1][-15:])\n",
    "\n",
    "    normals = os.path.join('/playpen/Datasets/geodepth2/', num, 'NFPS', 'images', f'{num}_{index:03d}', f'{num}_{index:03d}_nr_pred.npy')\n",
    "    if fpath[0]=='/':\n",
    "        normals = '/'+normals\n",
    "    normal_paths[os.path.join(img_dir, path[-1][-15:])] = normals\n",
    "    print(os.path.join(img_dir, path[-1][-15:]))\n",
    "with open('normal_paths_test.pkl', 'wb') as f:\n",
    "    pickle.dump(normal_paths, f)"
   ]
  },
  {
   "cell_type": "code",
   "execution_count": 12,
   "metadata": {},
   "outputs": [
    {
     "data": {
      "text/plain": [
       "31194"
      ]
     },
     "execution_count": 12,
     "metadata": {},
     "output_type": "execute_result"
    }
   ],
   "source": [
    "path = '/playpen/Datasets/geodepth2/000/img_corr/frame031194.jpg'.split('/')\n",
    "int(path[-1].split('.')[0][5:])"
   ]
  },
  {
   "cell_type": "code",
   "execution_count": 28,
   "metadata": {},
   "outputs": [
    {
     "name": "stderr",
     "output_type": "stream",
     "text": [
      "Clipping input data to the valid range for imshow with RGB data ([0..1] for floats or [0..255] for integers).\n"
     ]
    },
    {
     "data": {
      "text/plain": [
       "<matplotlib.image.AxesImage at 0x7f7a10378790>"
      ]
     },
     "execution_count": 28,
     "metadata": {},
     "output_type": "execute_result"
    },
    {
     "data": {
      "image/png": "[encoded data removed]",
      "text/plain": [
       "<Figure size 432x288 with 1 Axes>"
      ]
     },
     "metadata": {
      "needs_background": "light"
     },
     "output_type": "display_data"
    }
   ],
   "source": [
    "import matplotlib.pyplot as plt\n",
    "from scipy.ndimage import zoom\n",
    "\n",
    "normals = np.load('/playpen/Datasets/geodepth2/019/NFPS/images/019_055/019_055_nr_pred.npy')\n",
    "normals = zoom(normals, (1, 0.9, 1), order=1)\n",
    "plt.imshow(normals)"
   ]
  },
  {
   "cell_type": "code",
   "execution_count": 45,
   "metadata": {},
   "outputs": [
    {
     "name": "stdout",
     "output_type": "stream",
     "text": [
      "['/playpen/Datasets/test-set/000_frame031430.jpg', '/playpen/Datasets/test-set/001_frame023226.jpg', '/playpen/Datasets/test-set/001_frame023256.jpg', '/playpen/Datasets/test-set/001_frame023444.jpg', '/playpen/Datasets/test-set/002_frame024047.jpg']\n"
     ]
    }
   ],
   "source": [
    "with open('normal_paths_test.pkl', 'rb') as f:\n",
    "    data = pickle.load(f)\n",
    "print(list(data.keys())[:5])"
   ]
  }
 ],
 "metadata": {
  "kernelspec": {
   "display_name": "Python 3.9.12 ('ridges')",
   "language": "python",
   "name": "python3"
  },
  "language_info": {
   "codemirror_mode": {
    "name": "ipython",
    "version": 3
   },
   "file_extension": ".py",
   "mimetype": "text/x-python",
   "name": "python",
   "nbconvert_exporter": "python",
   "pygments_lexer": "ipython3",
   "version": "3.9.12"
  },
  "orig_nbformat": 4,
  "vscode": {
   "interpreter": {
    "hash": "f3ee524ea7c51a76ea3e29420a537552edcadab3e8b5b39c0c5b2dbc64c83acd"
   }
  }
 },
 "nbformat": 4,
 "nbformat_minor": 2
}
